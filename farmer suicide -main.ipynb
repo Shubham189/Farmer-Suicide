{
 "cells": [
  {
   "cell_type": "markdown",
   "metadata": {},
   "source": [
    "# Rate of farmer suicide in India due to unavailibility of resources required \n",
    "Farmer suicides account for 11.2% of all suicides in India.Activists and scholars have offered a number of conflicting reasons for farmer suicides, such as monsoon failure, high debt burdens,land ownership,land tenure, genetically modified crops, government policies, public mental health, personal issues and family problems.\n",
    "These suicides go un-noticed most of the time due to negligence of authorites. In this article we are going to predict the future death rates by the help of polynomial regression."
   ]
  },
  {
   "cell_type": "markdown",
   "metadata": {},
   "source": [
    "In today's date, the farmers in India choose to commit suicide which is becoming the biggest issue in agricultural country-India.The main problems behind the suicides are :\n",
    "\n",
    "### 1> Most farms are small and economically unfeasable\n",
    "Most of the farmers in India own very small patches of land. most of the lands they work on are not owned by them, therefore it becomes economically unfeasable to make any profits as their money goes to payment of lease for the land.\n",
    "### 2> Lack of alternative source of income\n",
    "Most of farmers in India live in villages where agricultural activites are most important source of income and successful completion of agricultural activities depends upon certain parameters which most farmers cannot afford  because there is lack of initiative from government and farmers are unaware of it.\n",
    "\n",
    "### 3> Repeated crop failures\n",
    "Every year repeatedly India is facing crop failures because of reduction in the productivity of land due to various reason.These reasons could be due overuse of fertilizers, pesticides and reliance on HYV(High Yielding Variety) seeds.A repeated failure of crops has left no other solution other than ending their lives.\n",
    "\n",
    "### 4>Natural calamities\n",
    "The effective agricultural production mostly depends on favorable weather condition.Due to the global warming,\n",
    "deforestation and other manmade reasons, natural condition has become more worse and reasons like heavy\n",
    "raining, floods, droughts, delay in raining, heavy cyclones, and manmade reasons like reduction in subsidies, fire,accidents and so on.In addition to economic reasons natural calamities are also responsible for farmers’ suicides.\n",
    "\n",
    "### 5>Increase in Cost of Production\n",
    "Rapid increase in cost of seed, fertilizers, pesticide and fuel costs forces the farmers to commit suicide.\n",
    "Insecticides,pesticides, cutting, transportation and selling of products also requires funds. In addition to this hybrid seeds are also required for good quality & quantity of product,which are very costly and not affordable to marginal and poor farmers of India.\n",
    "\n",
    "and many more."
   ]
  },
  {
   "cell_type": "markdown",
   "metadata": {},
   "source": [
    "**Moving on to the coding part,let's start by importing the required libraries : **"
   ]
  },
  {
   "cell_type": "code",
   "execution_count": 1,
   "metadata": {},
   "outputs": [],
   "source": [
    "#importing libraries\n",
    "import os\n",
    "import pandas as pd\n",
    "import numpy as np\n",
    "import matplotlib.pyplot as plt\n",
    "%matplotlib inline"
   ]
  },
  {
   "cell_type": "markdown",
   "metadata": {},
   "source": [
    "**Now we import the \"farmer_suicide_rates.csv\" file and show some of its data for better understanding.**"
   ]
  },
  {
   "cell_type": "code",
   "execution_count": 2,
   "metadata": {},
   "outputs": [
    {
     "data": {
      "text/html": [
       "<div>\n",
       "<style scoped>\n",
       "    .dataframe tbody tr th:only-of-type {\n",
       "        vertical-align: middle;\n",
       "    }\n",
       "\n",
       "    .dataframe tbody tr th {\n",
       "        vertical-align: top;\n",
       "    }\n",
       "\n",
       "    .dataframe thead th {\n",
       "        text-align: right;\n",
       "    }\n",
       "</style>\n",
       "<table border=\"1\" class=\"dataframe\">\n",
       "  <thead>\n",
       "    <tr style=\"text-align: right;\">\n",
       "      <th></th>\n",
       "      <th>Years</th>\n",
       "      <th>No_of_suicides</th>\n",
       "    </tr>\n",
       "  </thead>\n",
       "  <tbody>\n",
       "    <tr>\n",
       "      <th>0</th>\n",
       "      <td>1995</td>\n",
       "      <td>10720</td>\n",
       "    </tr>\n",
       "    <tr>\n",
       "      <th>1</th>\n",
       "      <td>1996</td>\n",
       "      <td>13729</td>\n",
       "    </tr>\n",
       "    <tr>\n",
       "      <th>2</th>\n",
       "      <td>1997</td>\n",
       "      <td>13622</td>\n",
       "    </tr>\n",
       "    <tr>\n",
       "      <th>3</th>\n",
       "      <td>1998</td>\n",
       "      <td>16015</td>\n",
       "    </tr>\n",
       "    <tr>\n",
       "      <th>4</th>\n",
       "      <td>1999</td>\n",
       "      <td>16082</td>\n",
       "    </tr>\n",
       "  </tbody>\n",
       "</table>\n",
       "</div>"
      ],
      "text/plain": [
       "   Years  No_of_suicides\n",
       "0   1995           10720\n",
       "1   1996           13729\n",
       "2   1997           13622\n",
       "3   1998           16015\n",
       "4   1999           16082"
      ]
     },
     "execution_count": 2,
     "metadata": {},
     "output_type": "execute_result"
    }
   ],
   "source": [
    "#Changing the directory path and importing the data set\n",
    "os.chdir(\"/media/shubham/2D1DAB4A7AA996F6/datasets/farmer suicide\")\n",
    "data= pd.read_csv('farmer_suicide_rates1.csv')\n",
    "X=data.iloc[:,:-1].values\n",
    "y=data.iloc[:,1].values\n",
    "data.head()"
   ]
  },
  {
   "cell_type": "markdown",
   "metadata": {},
   "source": [
    "**We will now plot the graph between \"years\" and \"no of suicides\" to better understand the trends between both the coloumns.**"
   ]
  },
  {
   "cell_type": "code",
   "execution_count": 3,
   "metadata": {},
   "outputs": [
    {
     "data": {
      "image/png": "[encoded data removed]",
      "text/plain": [
       "<Figure size 432x288 with 1 Axes>"
      ]
     },
     "metadata": {},
     "output_type": "display_data"
    }
   ],
   "source": [
    "#ploting the data\n",
    "X_grid = np.arange(min(X), max(X), 0.1)\n",
    "X_grid = X_grid.reshape(len(X_grid), 1)\n",
    "\n",
    "plt.scatter(X, y)\n",
    "plt.xlabel('Years')\n",
    "plt.ylabel('No of suicides')\n",
    "plt.title('Polynomial regression')\n",
    "plt.show()"
   ]
  },
  {
   "cell_type": "markdown",
   "metadata": {},
   "source": [
    "**Now we arrive at the best part of the article i.e. writting the code which will predict the number of suicides in a given year and for this we will take help of linear and polynomial regressions.**"
   ]
  },
  {
   "cell_type": "code",
   "execution_count": 4,
   "metadata": {},
   "outputs": [
    {
     "data": {
      "text/plain": [
       "LinearRegression(copy_X=True, fit_intercept=True, n_jobs=1, normalize=False)"
      ]
     },
     "execution_count": 4,
     "metadata": {},
     "output_type": "execute_result"
    }
   ],
   "source": [
    "# Fitting Linear Regression to the dataset\n",
    "from sklearn.linear_model import LinearRegression\n",
    "lin_reg = LinearRegression()\n",
    "lin_reg.fit(X, y)"
   ]
  },
  {
   "cell_type": "code",
   "execution_count": 5,
   "metadata": {},
   "outputs": [
    {
     "data": {
      "text/plain": [
       "LinearRegression(copy_X=True, fit_intercept=True, n_jobs=1, normalize=False)"
      ]
     },
     "execution_count": 5,
     "metadata": {},
     "output_type": "execute_result"
    }
   ],
   "source": [
    "# Fitting Polynomial Regression to the dataset\n",
    "from sklearn.preprocessing import PolynomialFeatures\n",
    "poly_reg = PolynomialFeatures(degree = 2) \n",
    "X_poly = poly_reg.fit_transform(X)\n",
    "poly_reg.fit(X_poly, y)\n",
    "lin_reg_2 = LinearRegression()\n",
    "lin_reg_2.fit(X_poly, y)"
   ]
  },
  {
   "cell_type": "markdown",
   "metadata": {},
   "source": [
    "**Let's see how our model got trained :-**"
   ]
  },
  {
   "cell_type": "code",
   "execution_count": 6,
   "metadata": {},
   "outputs": [
    {
     "data": {
      "image/png": "[encoded data removed]",
      "text/plain": [
       "<Figure size 432x288 with 1 Axes>"
      ]
     },
     "metadata": {},
     "output_type": "display_data"
    }
   ],
   "source": [
    "# Visualising the Polynomial Regression results\n",
    "plt.scatter(X, y, color = 'red')\n",
    "plt.plot(X, lin_reg_2.predict(poly_reg.fit_transform(X)), color = 'blue')\n",
    "plt.title('Truth or Bluff (Polynomial Regression)')\n",
    "plt.xlabel('Years')\n",
    "plt.ylabel('No of deaths')\n",
    "plt.show()"
   ]
  },
  {
   "cell_type": "markdown",
   "metadata": {},
   "source": [
    "**Here we will write the code to predict results for the upcomming years :- **"
   ]
  },
  {
   "cell_type": "code",
   "execution_count": 7,
   "metadata": {},
   "outputs": [
    {
     "data": {
      "image/png": "[encoded data removed]",
      "text/plain": [
       "<Figure size 432x288 with 1 Axes>"
      ]
     },
     "metadata": {},
     "output_type": "display_data"
    }
   ],
   "source": [
    "# Visualising the Polynomial Regression results\n",
    "plt.scatter(X, y, color = 'red')\n",
    "plt.xlabel('Years')\n",
    "plt.ylabel('Suicides')\n",
    "plt.title('Polynomial regression suicide rate')\n",
    "for year in range(2017,2026):\n",
    "    f=lin_reg_2.predict(poly_reg.fit_transform(year))\n",
    "    if(f<0):\n",
    "        f=0\n",
    "    plt.scatter(year, f, color = 'green')"
   ]
  },
  {
   "cell_type": "markdown",
   "metadata": {},
   "source": [
    "## Solutions to  reduce  the one  of the  biggest issue in India  i.e. rate of farmer  suicides could  be :-\n",
    "\n",
    "### 1> Technology Advancement in Agriculture\n",
    "Introducing farming techniques to farmers that guarantee a definite success which can be attained only by implementing new technologies. Research efforts should continue for the production of crops with higher yield of the product and better resistance to pests. Technological advancement should be passed down to the small farmers.\n",
    "\n",
    "### 2> Alternative Sources of Income\n",
    "Small farmers should be encouraged to develop alternative sources of income and the government should take up\n",
    "the responsibility for providing training to the farmers to acquire new skills. Agro-based small business can be alternate step which will help farmers to produce for the market-products that fetch a good price.\n",
    "\n",
    "### 3> Collective Farming\n",
    "Collective farming is a very good option for small and marginal farmers where a group of farmers can collectively work on big farms with collective inputs. This can lead to a village level buildup of safe storage space to cut waste, reduce transportation cost and market produce when and where prices are attractive.\n",
    "\n",
    "### 4> Institutional Finance/Credit\n",
    "Another important solution to save the farmers from debt traps of money lenders is to make institutional finance available to every farmer . It should be made easily accessible to the poorest farmers. This calls for removing of elaborate formalities and procedures for obtaining the loans. Effective monitoring of the disbursed funds is also required because the poor farmer is used as a front-end while in fact the benefit of the loan is availed by a bigger land owner.\n",
    "\n",
    "### 5> Marketing Facilities\n",
    "The Agriculture Produce Market Committee (APMC) Act should be amended to provide direct marketing by farmers and development of private markets to create an enabling environment for increased investment and to provide farmers the alternative options.  Producer’s markets on the lines of Cooperative Markets should be encouraged in all the major towns of the State. A regulatory mechanism should be set-up for regulation and efficient operation of public and private markets."
   ]
  },
  {
   "cell_type": "markdown",
   "metadata": {},
   "source": [
    "## Conclusion \n",
    "The trend can be reversed through active participation of the Government in addressing the real issues of the farmers that are driving them to suicides. Social responsibility also goes a long way to help the famers.The solution to the farmer’s plight should be directed towards enabling the farmers to help themselves and sustain on their own. Temporary through monetary reliefwould not be the solution. The efforts should be targeted at improving the entire structure of the farmers where in the relief is not given on a drought basis, rather they are taught to overcome their difficulties through their own skills and capabilities."
   ]
  },
  {
   "cell_type": "markdown",
   "metadata": {},
   "source": [
    "## Biblography\n",
    "The sources used in this article were :-<br>\n",
    "https://en.wikipedia.org/wiki/Farmers%27_suicides_in_India#cite_note-allindiancrb-2 (for dataset)\n"
   ]
  }
 ],
 "metadata": {
  "kernelspec": {
   "display_name": "Python 3",
   "language": "python",
   "name": "python3"
  },
  "language_info": {
   "codemirror_mode": {
    "name": "ipython",
    "version": 3
   },
   "file_extension": ".py",
   "mimetype": "text/x-python",
   "name": "python",
   "nbconvert_exporter": "python",
   "pygments_lexer": "ipython3",
   "version": "3.6.5"
  }
 },
 "nbformat": 4,
 "nbformat_minor": 2
}
